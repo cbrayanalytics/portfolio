{
 "cells": [
  {
   "cell_type": "markdown",
   "metadata": {},
   "source": [
    "# Data Preprocessing\n",
    "\n",
    "* Load Libraries and Data\n",
    "* Drop Unneeded Data\n",
    "* Replace NA values\n",
    "* Convert Vars to Category\n",
    "* Convert Vars to Boolean\n",
    "* Convert Vars to Int\n",
    "* Normalization\n",
    "* One Hot Encode\n",
    "* Save the Processed Data"
   ]
  },
  {
   "cell_type": "markdown",
   "metadata": {},
   "source": [
    "## Load Libraries and Data"
   ]
  },
  {
   "cell_type": "code",
   "execution_count": 1,
   "metadata": {},
   "outputs": [],
   "source": [
    "import pandas as pd\n",
    "import matplotlib.pyplot as plt\n",
    "import numpy as np\n",
    "import re\n",
    "import pickle\n",
    "import itertools"
   ]
  },
  {
   "cell_type": "code",
   "execution_count": 2,
   "metadata": {},
   "outputs": [],
   "source": [
    "try:\n",
    "    train_data = pd.read_csv(r\"../Project/train.csv\")\n",
    "except:\n",
    "    train_data = pd.read_csv(r\"../Project/train.csv\")"
   ]
  },
  {
   "cell_type": "code",
   "execution_count": 3,
   "metadata": {},
   "outputs": [],
   "source": [
    "try:\n",
    "    test_data = pd.read_csv(r\"../Project/test.csv\")\n",
    "except:\n",
    "    test_data = pd.read_csv(r\"../Project/test.csv\")"
   ]
  },
  {
   "cell_type": "code",
   "execution_count": 4,
   "metadata": {},
   "outputs": [
    {
     "data": {
      "text/plain": [
       "(233154, 41)"
      ]
     },
     "execution_count": 4,
     "metadata": {},
     "output_type": "execute_result"
    }
   ],
   "source": [
    "train_data.shape"
   ]
  },
  {
   "cell_type": "code",
   "execution_count": 5,
   "metadata": {},
   "outputs": [
    {
     "data": {
      "text/plain": [
       "(112392, 40)"
      ]
     },
     "execution_count": 5,
     "metadata": {},
     "output_type": "execute_result"
    }
   ],
   "source": [
    "test_data.shape"
   ]
  },
  {
   "cell_type": "code",
   "execution_count": 6,
   "metadata": {},
   "outputs": [
    {
     "data": {
      "text/html": [
       "<div>\n",
       "<style scoped>\n",
       "    .dataframe tbody tr th:only-of-type {\n",
       "        vertical-align: middle;\n",
       "    }\n",
       "\n",
       "    .dataframe tbody tr th {\n",
       "        vertical-align: top;\n",
       "    }\n",
       "\n",
       "    .dataframe thead th {\n",
       "        text-align: right;\n",
       "    }\n",
       "</style>\n",
       "<table border=\"1\" class=\"dataframe\">\n",
       "  <thead>\n",
       "    <tr style=\"text-align: right;\">\n",
       "      <th></th>\n",
       "      <th>UniqueID</th>\n",
       "      <th>disbursed_amount</th>\n",
       "      <th>asset_cost</th>\n",
       "      <th>ltv</th>\n",
       "      <th>branch_id</th>\n",
       "      <th>supplier_id</th>\n",
       "      <th>manufacturer_id</th>\n",
       "      <th>Current_pincode_ID</th>\n",
       "      <th>Date.of.Birth</th>\n",
       "      <th>Employment.Type</th>\n",
       "      <th>...</th>\n",
       "      <th>SEC.SANCTIONED.AMOUNT</th>\n",
       "      <th>SEC.DISBURSED.AMOUNT</th>\n",
       "      <th>PRIMARY.INSTAL.AMT</th>\n",
       "      <th>SEC.INSTAL.AMT</th>\n",
       "      <th>NEW.ACCTS.IN.LAST.SIX.MONTHS</th>\n",
       "      <th>DELINQUENT.ACCTS.IN.LAST.SIX.MONTHS</th>\n",
       "      <th>AVERAGE.ACCT.AGE</th>\n",
       "      <th>CREDIT.HISTORY.LENGTH</th>\n",
       "      <th>NO.OF_INQUIRIES</th>\n",
       "      <th>loan_default</th>\n",
       "    </tr>\n",
       "  </thead>\n",
       "  <tbody>\n",
       "    <tr>\n",
       "      <th>0</th>\n",
       "      <td>420825</td>\n",
       "      <td>50578</td>\n",
       "      <td>58400</td>\n",
       "      <td>89.55</td>\n",
       "      <td>67</td>\n",
       "      <td>22807</td>\n",
       "      <td>45</td>\n",
       "      <td>1441</td>\n",
       "      <td>01-01-84</td>\n",
       "      <td>Salaried</td>\n",
       "      <td>...</td>\n",
       "      <td>0</td>\n",
       "      <td>0</td>\n",
       "      <td>0</td>\n",
       "      <td>0</td>\n",
       "      <td>0</td>\n",
       "      <td>0</td>\n",
       "      <td>0yrs 0mon</td>\n",
       "      <td>0yrs 0mon</td>\n",
       "      <td>0</td>\n",
       "      <td>0</td>\n",
       "    </tr>\n",
       "    <tr>\n",
       "      <th>1</th>\n",
       "      <td>537409</td>\n",
       "      <td>47145</td>\n",
       "      <td>65550</td>\n",
       "      <td>73.23</td>\n",
       "      <td>67</td>\n",
       "      <td>22807</td>\n",
       "      <td>45</td>\n",
       "      <td>1502</td>\n",
       "      <td>31-07-85</td>\n",
       "      <td>Self employed</td>\n",
       "      <td>...</td>\n",
       "      <td>0</td>\n",
       "      <td>0</td>\n",
       "      <td>1991</td>\n",
       "      <td>0</td>\n",
       "      <td>0</td>\n",
       "      <td>1</td>\n",
       "      <td>1yrs 11mon</td>\n",
       "      <td>1yrs 11mon</td>\n",
       "      <td>0</td>\n",
       "      <td>1</td>\n",
       "    </tr>\n",
       "    <tr>\n",
       "      <th>2</th>\n",
       "      <td>417566</td>\n",
       "      <td>53278</td>\n",
       "      <td>61360</td>\n",
       "      <td>89.63</td>\n",
       "      <td>67</td>\n",
       "      <td>22807</td>\n",
       "      <td>45</td>\n",
       "      <td>1497</td>\n",
       "      <td>24-08-85</td>\n",
       "      <td>Self employed</td>\n",
       "      <td>...</td>\n",
       "      <td>0</td>\n",
       "      <td>0</td>\n",
       "      <td>0</td>\n",
       "      <td>0</td>\n",
       "      <td>0</td>\n",
       "      <td>0</td>\n",
       "      <td>0yrs 0mon</td>\n",
       "      <td>0yrs 0mon</td>\n",
       "      <td>0</td>\n",
       "      <td>0</td>\n",
       "    </tr>\n",
       "    <tr>\n",
       "      <th>3</th>\n",
       "      <td>624493</td>\n",
       "      <td>57513</td>\n",
       "      <td>66113</td>\n",
       "      <td>88.48</td>\n",
       "      <td>67</td>\n",
       "      <td>22807</td>\n",
       "      <td>45</td>\n",
       "      <td>1501</td>\n",
       "      <td>30-12-93</td>\n",
       "      <td>Self employed</td>\n",
       "      <td>...</td>\n",
       "      <td>0</td>\n",
       "      <td>0</td>\n",
       "      <td>31</td>\n",
       "      <td>0</td>\n",
       "      <td>0</td>\n",
       "      <td>0</td>\n",
       "      <td>0yrs 8mon</td>\n",
       "      <td>1yrs 3mon</td>\n",
       "      <td>1</td>\n",
       "      <td>1</td>\n",
       "    </tr>\n",
       "    <tr>\n",
       "      <th>4</th>\n",
       "      <td>539055</td>\n",
       "      <td>52378</td>\n",
       "      <td>60300</td>\n",
       "      <td>88.39</td>\n",
       "      <td>67</td>\n",
       "      <td>22807</td>\n",
       "      <td>45</td>\n",
       "      <td>1495</td>\n",
       "      <td>09-12-77</td>\n",
       "      <td>Self employed</td>\n",
       "      <td>...</td>\n",
       "      <td>0</td>\n",
       "      <td>0</td>\n",
       "      <td>0</td>\n",
       "      <td>0</td>\n",
       "      <td>0</td>\n",
       "      <td>0</td>\n",
       "      <td>0yrs 0mon</td>\n",
       "      <td>0yrs 0mon</td>\n",
       "      <td>1</td>\n",
       "      <td>1</td>\n",
       "    </tr>\n",
       "  </tbody>\n",
       "</table>\n",
       "<p>5 rows × 41 columns</p>\n",
       "</div>"
      ],
      "text/plain": [
       "   UniqueID  disbursed_amount  asset_cost    ltv  branch_id  supplier_id  \\\n",
       "0    420825             50578       58400  89.55         67        22807   \n",
       "1    537409             47145       65550  73.23         67        22807   \n",
       "2    417566             53278       61360  89.63         67        22807   \n",
       "3    624493             57513       66113  88.48         67        22807   \n",
       "4    539055             52378       60300  88.39         67        22807   \n",
       "\n",
       "   manufacturer_id  Current_pincode_ID Date.of.Birth Employment.Type  ...  \\\n",
       "0               45                1441      01-01-84        Salaried  ...   \n",
       "1               45                1502      31-07-85   Self employed  ...   \n",
       "2               45                1497      24-08-85   Self employed  ...   \n",
       "3               45                1501      30-12-93   Self employed  ...   \n",
       "4               45                1495      09-12-77   Self employed  ...   \n",
       "\n",
       "  SEC.SANCTIONED.AMOUNT  SEC.DISBURSED.AMOUNT  PRIMARY.INSTAL.AMT  \\\n",
       "0                     0                     0                   0   \n",
       "1                     0                     0                1991   \n",
       "2                     0                     0                   0   \n",
       "3                     0                     0                  31   \n",
       "4                     0                     0                   0   \n",
       "\n",
       "   SEC.INSTAL.AMT  NEW.ACCTS.IN.LAST.SIX.MONTHS  \\\n",
       "0               0                             0   \n",
       "1               0                             0   \n",
       "2               0                             0   \n",
       "3               0                             0   \n",
       "4               0                             0   \n",
       "\n",
       "   DELINQUENT.ACCTS.IN.LAST.SIX.MONTHS  AVERAGE.ACCT.AGE  \\\n",
       "0                                    0         0yrs 0mon   \n",
       "1                                    1        1yrs 11mon   \n",
       "2                                    0         0yrs 0mon   \n",
       "3                                    0         0yrs 8mon   \n",
       "4                                    0         0yrs 0mon   \n",
       "\n",
       "   CREDIT.HISTORY.LENGTH  NO.OF_INQUIRIES  loan_default  \n",
       "0              0yrs 0mon                0             0  \n",
       "1             1yrs 11mon                0             1  \n",
       "2              0yrs 0mon                0             0  \n",
       "3              1yrs 3mon                1             1  \n",
       "4              0yrs 0mon                1             1  \n",
       "\n",
       "[5 rows x 41 columns]"
      ]
     },
     "execution_count": 6,
     "metadata": {},
     "output_type": "execute_result"
    }
   ],
   "source": [
    "train_data.head()"
   ]
  },
  {
   "cell_type": "code",
   "execution_count": 7,
   "metadata": {},
   "outputs": [],
   "source": [
    "# Columns to drop: \n",
    "# UniqueID\n",
    "\n",
    "# Category\n",
    "# 'branch_id', 'supplier_id', 'manufacturer_id', 'current_pincode_ID', 'State_ID', 'PERFORM_CNS.SCORE.DESCRIPTION'\n",
    "\n",
    "# Bool\n",
    "# 'loan_default', 'MobileNo_Avl_Flag', 'Aadhar_flag', 'PAN_flag', 'VoterID_flag', 'Driving_flag'\n",
    "\n",
    "# Convert to numeric\n",
    "# 'AVERAGE.ACCT.AGE', 'CREDIT.HISTORY.LENGTH'"
   ]
  },
  {
   "cell_type": "markdown",
   "metadata": {},
   "source": [
    "## Drop unneeded columns"
   ]
  },
  {
   "cell_type": "code",
   "execution_count": 8,
   "metadata": {},
   "outputs": [],
   "source": [
    "train_data.drop('UniqueID', axis=1, inplace=True)"
   ]
  },
  {
   "cell_type": "markdown",
   "metadata": {},
   "source": [
    "## Replace NA Values"
   ]
  },
  {
   "cell_type": "code",
   "execution_count": 9,
   "metadata": {},
   "outputs": [
    {
     "data": {
      "text/plain": [
       "disbursed_amount                       False\n",
       "asset_cost                             False\n",
       "ltv                                    False\n",
       "branch_id                              False\n",
       "supplier_id                            False\n",
       "manufacturer_id                        False\n",
       "Current_pincode_ID                     False\n",
       "Date.of.Birth                          False\n",
       "Employment.Type                         True\n",
       "DisbursalDate                          False\n",
       "State_ID                               False\n",
       "Employee_code_ID                       False\n",
       "MobileNo_Avl_Flag                      False\n",
       "Aadhar_flag                            False\n",
       "PAN_flag                               False\n",
       "VoterID_flag                           False\n",
       "Driving_flag                           False\n",
       "Passport_flag                          False\n",
       "PERFORM_CNS.SCORE                      False\n",
       "PERFORM_CNS.SCORE.DESCRIPTION          False\n",
       "PRI.NO.OF.ACCTS                        False\n",
       "PRI.ACTIVE.ACCTS                       False\n",
       "PRI.OVERDUE.ACCTS                      False\n",
       "PRI.CURRENT.BALANCE                    False\n",
       "PRI.SANCTIONED.AMOUNT                  False\n",
       "PRI.DISBURSED.AMOUNT                   False\n",
       "SEC.NO.OF.ACCTS                        False\n",
       "SEC.ACTIVE.ACCTS                       False\n",
       "SEC.OVERDUE.ACCTS                      False\n",
       "SEC.CURRENT.BALANCE                    False\n",
       "SEC.SANCTIONED.AMOUNT                  False\n",
       "SEC.DISBURSED.AMOUNT                   False\n",
       "PRIMARY.INSTAL.AMT                     False\n",
       "SEC.INSTAL.AMT                         False\n",
       "NEW.ACCTS.IN.LAST.SIX.MONTHS           False\n",
       "DELINQUENT.ACCTS.IN.LAST.SIX.MONTHS    False\n",
       "AVERAGE.ACCT.AGE                       False\n",
       "CREDIT.HISTORY.LENGTH                  False\n",
       "NO.OF_INQUIRIES                        False\n",
       "loan_default                           False\n",
       "dtype: bool"
      ]
     },
     "execution_count": 9,
     "metadata": {},
     "output_type": "execute_result"
    }
   ],
   "source": [
    "train_data.isna().any()\n",
    "# Only Employment.Type has NA's"
   ]
  },
  {
   "cell_type": "code",
   "execution_count": 10,
   "metadata": {},
   "outputs": [
    {
     "data": {
      "text/plain": [
       "UniqueID                               False\n",
       "disbursed_amount                       False\n",
       "asset_cost                             False\n",
       "ltv                                    False\n",
       "branch_id                              False\n",
       "supplier_id                            False\n",
       "manufacturer_id                        False\n",
       "Current_pincode_ID                     False\n",
       "Date.of.Birth                          False\n",
       "Employment.Type                         True\n",
       "DisbursalDate                          False\n",
       "State_ID                               False\n",
       "Employee_code_ID                       False\n",
       "MobileNo_Avl_Flag                      False\n",
       "Aadhar_flag                            False\n",
       "PAN_flag                               False\n",
       "VoterID_flag                           False\n",
       "Driving_flag                           False\n",
       "Passport_flag                          False\n",
       "PERFORM_CNS.SCORE                      False\n",
       "PERFORM_CNS.SCORE.DESCRIPTION          False\n",
       "PRI.NO.OF.ACCTS                        False\n",
       "PRI.ACTIVE.ACCTS                       False\n",
       "PRI.OVERDUE.ACCTS                      False\n",
       "PRI.CURRENT.BALANCE                    False\n",
       "PRI.SANCTIONED.AMOUNT                  False\n",
       "PRI.DISBURSED.AMOUNT                   False\n",
       "SEC.NO.OF.ACCTS                        False\n",
       "SEC.ACTIVE.ACCTS                       False\n",
       "SEC.OVERDUE.ACCTS                      False\n",
       "SEC.CURRENT.BALANCE                    False\n",
       "SEC.SANCTIONED.AMOUNT                  False\n",
       "SEC.DISBURSED.AMOUNT                   False\n",
       "PRIMARY.INSTAL.AMT                     False\n",
       "SEC.INSTAL.AMT                         False\n",
       "NEW.ACCTS.IN.LAST.SIX.MONTHS           False\n",
       "DELINQUENT.ACCTS.IN.LAST.SIX.MONTHS    False\n",
       "AVERAGE.ACCT.AGE                       False\n",
       "CREDIT.HISTORY.LENGTH                  False\n",
       "NO.OF_INQUIRIES                        False\n",
       "dtype: bool"
      ]
     },
     "execution_count": 10,
     "metadata": {},
     "output_type": "execute_result"
    }
   ],
   "source": [
    "test_data.isna().any()"
   ]
  },
  {
   "cell_type": "code",
   "execution_count": 11,
   "metadata": {},
   "outputs": [
    {
     "name": "stdout",
     "output_type": "stream",
     "text": [
      "Employment.Types has 7661 NA values, which makes up 3.29% of the data.\n",
      "Encoding NA values as Unknown\n"
     ]
    },
    {
     "name": "stderr",
     "output_type": "stream",
     "text": [
      "C:\\Users\\casey\\AppData\\Local\\Temp\\ipykernel_3772\\555203639.py:8: SettingWithCopyWarning: \n",
      "A value is trying to be set on a copy of a slice from a DataFrame\n",
      "\n",
      "See the caveats in the documentation: https://pandas.pydata.org/pandas-docs/stable/user_guide/indexing.html#returning-a-view-versus-a-copy\n",
      "  train_data['Employment.Type'][train_data['Employment.Type'].isna()] = 'Unknown'\n"
     ]
    }
   ],
   "source": [
    "num_nas = sum(train_data['Employment.Type'].isna())\n",
    "percent_na = sum(train_data['Employment.Type'].isna())/train_data['Employment.Type'].shape[0]\n",
    "percent_na = round(percent_na*100,2)\n",
    "\n",
    "print('Employment.Types has {} NA values, which makes up {}% of the data.'.format(num_nas, percent_na))\n",
    "print('Encoding NA values as Unknown')\n",
    "\n",
    "train_data['Employment.Type'][train_data['Employment.Type'].isna()] = 'Unknown'"
   ]
  },
  {
   "cell_type": "code",
   "execution_count": 12,
   "metadata": {},
   "outputs": [
    {
     "name": "stdout",
     "output_type": "stream",
     "text": [
      "Employment.Types has 3443 NA values, which makes up 3.06% of the data.\n",
      "Encoding NA values as Unknown\n"
     ]
    },
    {
     "name": "stderr",
     "output_type": "stream",
     "text": [
      "C:\\Users\\casey\\AppData\\Local\\Temp\\ipykernel_3772\\1605703706.py:8: SettingWithCopyWarning: \n",
      "A value is trying to be set on a copy of a slice from a DataFrame\n",
      "\n",
      "See the caveats in the documentation: https://pandas.pydata.org/pandas-docs/stable/user_guide/indexing.html#returning-a-view-versus-a-copy\n",
      "  test_data['Employment.Type'][test_data['Employment.Type'].isna()] = 'Unknown'\n"
     ]
    }
   ],
   "source": [
    "num_nas = sum(test_data['Employment.Type'].isna())\n",
    "percent_na = sum(test_data['Employment.Type'].isna())/test_data['Employment.Type'].shape[0]\n",
    "percent_na = round(percent_na*100,2)\n",
    "\n",
    "print('Employment.Types has {} NA values, which makes up {}% of the data.'.format(num_nas, percent_na))\n",
    "print('Encoding NA values as Unknown')\n",
    "\n",
    "test_data['Employment.Type'][test_data['Employment.Type'].isna()] = 'Unknown'"
   ]
  },
  {
   "cell_type": "markdown",
   "metadata": {},
   "source": [
    "## Reduce Primary and Secondary Accounts"
   ]
  },
  {
   "cell_type": "code",
   "execution_count": 13,
   "metadata": {},
   "outputs": [],
   "source": [
    "new = ['total_accts', 'active_accts', 'overdue_accts', 'total_current_balance', 'total_sanc_amount', 'total_disbursed_amount', 'total_instal']\n",
    "pri = ['PRI.NO.OF.ACCTS', 'PRI.ACTIVE.ACCTS', 'PRI.OVERDUE.ACCTS', 'PRI.CURRENT.BALANCE', 'PRI.SANCTIONED.AMOUNT', 'PRI.DISBURSED.AMOUNT', 'PRIMARY.INSTAL.AMT']\n",
    "sec = ['SEC.NO.OF.ACCTS', 'SEC.ACTIVE.ACCTS', 'SEC.OVERDUE.ACCTS', 'SEC.CURRENT.BALANCE', 'SEC.SANCTIONED.AMOUNT', 'SEC.DISBURSED.AMOUNT', 'SEC.INSTAL.AMT']\n",
    "\n",
    "for (new, pri, sec) in zip(new, pri, sec):\n",
    "    train_data[new] = train_data[pri] + train_data[sec]\n",
    "    del train_data[pri]; del train_data[sec]"
   ]
  },
  {
   "cell_type": "markdown",
   "metadata": {},
   "source": [
    "## Convert Some Variables from Int to Category"
   ]
  },
  {
   "cell_type": "code",
   "execution_count": 14,
   "metadata": {},
   "outputs": [],
   "source": [
    "category_columns = ['branch_id', 'supplier_id', 'manufacturer_id', 'Current_pincode_ID', 'State_ID', 'PERFORM_CNS.SCORE.DESCRIPTION', 'Employment.Type']\n",
    "\n",
    "for column in category_columns:\n",
    "    train_data[column] = train_data[column].astype('category')"
   ]
  },
  {
   "cell_type": "code",
   "execution_count": 15,
   "metadata": {},
   "outputs": [
    {
     "data": {
      "text/html": [
       "<div>\n",
       "<style scoped>\n",
       "    .dataframe tbody tr th:only-of-type {\n",
       "        vertical-align: middle;\n",
       "    }\n",
       "\n",
       "    .dataframe tbody tr th {\n",
       "        vertical-align: top;\n",
       "    }\n",
       "\n",
       "    .dataframe thead th {\n",
       "        text-align: right;\n",
       "    }\n",
       "</style>\n",
       "<table border=\"1\" class=\"dataframe\">\n",
       "  <thead>\n",
       "    <tr style=\"text-align: right;\">\n",
       "      <th></th>\n",
       "      <th>disbursed_amount</th>\n",
       "      <th>asset_cost</th>\n",
       "      <th>ltv</th>\n",
       "      <th>branch_id</th>\n",
       "      <th>supplier_id</th>\n",
       "      <th>manufacturer_id</th>\n",
       "      <th>Current_pincode_ID</th>\n",
       "      <th>Date.of.Birth</th>\n",
       "      <th>Employment.Type</th>\n",
       "      <th>DisbursalDate</th>\n",
       "      <th>...</th>\n",
       "      <th>CREDIT.HISTORY.LENGTH</th>\n",
       "      <th>NO.OF_INQUIRIES</th>\n",
       "      <th>loan_default</th>\n",
       "      <th>total_accts</th>\n",
       "      <th>active_accts</th>\n",
       "      <th>overdue_accts</th>\n",
       "      <th>total_current_balance</th>\n",
       "      <th>total_sanc_amount</th>\n",
       "      <th>total_disbursed_amount</th>\n",
       "      <th>total_instal</th>\n",
       "    </tr>\n",
       "  </thead>\n",
       "  <tbody>\n",
       "    <tr>\n",
       "      <th>0</th>\n",
       "      <td>50578</td>\n",
       "      <td>58400</td>\n",
       "      <td>89.55</td>\n",
       "      <td>67</td>\n",
       "      <td>22807</td>\n",
       "      <td>45</td>\n",
       "      <td>1441</td>\n",
       "      <td>01-01-84</td>\n",
       "      <td>Salaried</td>\n",
       "      <td>03-08-18</td>\n",
       "      <td>...</td>\n",
       "      <td>0yrs 0mon</td>\n",
       "      <td>0</td>\n",
       "      <td>0</td>\n",
       "      <td>0</td>\n",
       "      <td>0</td>\n",
       "      <td>0</td>\n",
       "      <td>0</td>\n",
       "      <td>0</td>\n",
       "      <td>0</td>\n",
       "      <td>0</td>\n",
       "    </tr>\n",
       "    <tr>\n",
       "      <th>1</th>\n",
       "      <td>47145</td>\n",
       "      <td>65550</td>\n",
       "      <td>73.23</td>\n",
       "      <td>67</td>\n",
       "      <td>22807</td>\n",
       "      <td>45</td>\n",
       "      <td>1502</td>\n",
       "      <td>31-07-85</td>\n",
       "      <td>Self employed</td>\n",
       "      <td>26-09-18</td>\n",
       "      <td>...</td>\n",
       "      <td>1yrs 11mon</td>\n",
       "      <td>0</td>\n",
       "      <td>1</td>\n",
       "      <td>1</td>\n",
       "      <td>1</td>\n",
       "      <td>1</td>\n",
       "      <td>27600</td>\n",
       "      <td>50200</td>\n",
       "      <td>50200</td>\n",
       "      <td>1991</td>\n",
       "    </tr>\n",
       "    <tr>\n",
       "      <th>2</th>\n",
       "      <td>53278</td>\n",
       "      <td>61360</td>\n",
       "      <td>89.63</td>\n",
       "      <td>67</td>\n",
       "      <td>22807</td>\n",
       "      <td>45</td>\n",
       "      <td>1497</td>\n",
       "      <td>24-08-85</td>\n",
       "      <td>Self employed</td>\n",
       "      <td>01-08-18</td>\n",
       "      <td>...</td>\n",
       "      <td>0yrs 0mon</td>\n",
       "      <td>0</td>\n",
       "      <td>0</td>\n",
       "      <td>0</td>\n",
       "      <td>0</td>\n",
       "      <td>0</td>\n",
       "      <td>0</td>\n",
       "      <td>0</td>\n",
       "      <td>0</td>\n",
       "      <td>0</td>\n",
       "    </tr>\n",
       "    <tr>\n",
       "      <th>3</th>\n",
       "      <td>57513</td>\n",
       "      <td>66113</td>\n",
       "      <td>88.48</td>\n",
       "      <td>67</td>\n",
       "      <td>22807</td>\n",
       "      <td>45</td>\n",
       "      <td>1501</td>\n",
       "      <td>30-12-93</td>\n",
       "      <td>Self employed</td>\n",
       "      <td>26-10-18</td>\n",
       "      <td>...</td>\n",
       "      <td>1yrs 3mon</td>\n",
       "      <td>1</td>\n",
       "      <td>1</td>\n",
       "      <td>3</td>\n",
       "      <td>0</td>\n",
       "      <td>0</td>\n",
       "      <td>0</td>\n",
       "      <td>0</td>\n",
       "      <td>0</td>\n",
       "      <td>31</td>\n",
       "    </tr>\n",
       "    <tr>\n",
       "      <th>4</th>\n",
       "      <td>52378</td>\n",
       "      <td>60300</td>\n",
       "      <td>88.39</td>\n",
       "      <td>67</td>\n",
       "      <td>22807</td>\n",
       "      <td>45</td>\n",
       "      <td>1495</td>\n",
       "      <td>09-12-77</td>\n",
       "      <td>Self employed</td>\n",
       "      <td>26-09-18</td>\n",
       "      <td>...</td>\n",
       "      <td>0yrs 0mon</td>\n",
       "      <td>1</td>\n",
       "      <td>1</td>\n",
       "      <td>0</td>\n",
       "      <td>0</td>\n",
       "      <td>0</td>\n",
       "      <td>0</td>\n",
       "      <td>0</td>\n",
       "      <td>0</td>\n",
       "      <td>0</td>\n",
       "    </tr>\n",
       "  </tbody>\n",
       "</table>\n",
       "<p>5 rows × 33 columns</p>\n",
       "</div>"
      ],
      "text/plain": [
       "   disbursed_amount  asset_cost    ltv branch_id supplier_id manufacturer_id  \\\n",
       "0             50578       58400  89.55        67       22807              45   \n",
       "1             47145       65550  73.23        67       22807              45   \n",
       "2             53278       61360  89.63        67       22807              45   \n",
       "3             57513       66113  88.48        67       22807              45   \n",
       "4             52378       60300  88.39        67       22807              45   \n",
       "\n",
       "  Current_pincode_ID Date.of.Birth Employment.Type DisbursalDate  ...  \\\n",
       "0               1441      01-01-84        Salaried      03-08-18  ...   \n",
       "1               1502      31-07-85   Self employed      26-09-18  ...   \n",
       "2               1497      24-08-85   Self employed      01-08-18  ...   \n",
       "3               1501      30-12-93   Self employed      26-10-18  ...   \n",
       "4               1495      09-12-77   Self employed      26-09-18  ...   \n",
       "\n",
       "  CREDIT.HISTORY.LENGTH  NO.OF_INQUIRIES  loan_default  total_accts  \\\n",
       "0             0yrs 0mon                0             0            0   \n",
       "1            1yrs 11mon                0             1            1   \n",
       "2             0yrs 0mon                0             0            0   \n",
       "3             1yrs 3mon                1             1            3   \n",
       "4             0yrs 0mon                1             1            0   \n",
       "\n",
       "   active_accts  overdue_accts  total_current_balance  total_sanc_amount  \\\n",
       "0             0              0                      0                  0   \n",
       "1             1              1                  27600              50200   \n",
       "2             0              0                      0                  0   \n",
       "3             0              0                      0                  0   \n",
       "4             0              0                      0                  0   \n",
       "\n",
       "   total_disbursed_amount total_instal  \n",
       "0                       0            0  \n",
       "1                   50200         1991  \n",
       "2                       0            0  \n",
       "3                       0           31  \n",
       "4                       0            0  \n",
       "\n",
       "[5 rows x 33 columns]"
      ]
     },
     "execution_count": 15,
     "metadata": {},
     "output_type": "execute_result"
    }
   ],
   "source": [
    "train_data.head()"
   ]
  },
  {
   "cell_type": "markdown",
   "metadata": {},
   "source": [
    "## Convert Some Variables to Boolean"
   ]
  },
  {
   "cell_type": "code",
   "execution_count": 16,
   "metadata": {},
   "outputs": [],
   "source": [
    "category_columns = ['loan_default', 'MobileNo_Avl_Flag', 'Aadhar_flag', 'PAN_flag', 'VoterID_flag', 'Driving_flag']\n",
    "\n",
    "for column in category_columns:\n",
    "    train_data[column] = train_data[column].astype('bool')"
   ]
  },
  {
   "cell_type": "markdown",
   "metadata": {},
   "source": [
    "## Convert Some Variables to Numeric"
   ]
  },
  {
   "cell_type": "code",
   "execution_count": 17,
   "metadata": {},
   "outputs": [],
   "source": [
    "# Function for converting _yrs _mons to # of months\n",
    "def convert_yr_mon(x):\n",
    "    nums = re.findall(r'-?\\d+\\.?\\d*', x)\n",
    "    nums = list(map(int, nums))\n",
    "    nums = np.array(nums) * np.array([12,1])\n",
    "    return sum(nums)\n",
    "\n",
    "category_columns = ['AVERAGE.ACCT.AGE', 'CREDIT.HISTORY.LENGTH']\n",
    "\n",
    "for column in category_columns:\n",
    "    train_data[column] = train_data[column].map(lambda x: convert_yr_mon(x))\n",
    "    train_data[column] = train_data[column].astype('int64')"
   ]
  },
  {
   "cell_type": "markdown",
   "metadata": {},
   "source": [
    "## Normalize Continuous Variables"
   ]
  },
  {
   "cell_type": "code",
   "execution_count": 18,
   "metadata": {},
   "outputs": [],
   "source": [
    "## Unused - Min Max Normalization\n",
    "def min_max_normalization(df_column):\n",
    "    mm_data = (df_column-df_column.min())/(df_column.max() - df_column.min())\n",
    "    return mm_data"
   ]
  },
  {
   "cell_type": "code",
   "execution_count": 19,
   "metadata": {},
   "outputs": [],
   "source": [
    "# Function to normalize data\n",
    "def mean_normalization(df_column):\n",
    "    avg = df_column.mean()\n",
    "    std = df_column.std()\n",
    "    nrml_data = (df_column-avg)/std\n",
    "    return nrml_data, avg, std"
   ]
  },
  {
   "cell_type": "code",
   "execution_count": 20,
   "metadata": {},
   "outputs": [],
   "source": [
    "normalization_dict = {} # Dictionary containing conversion values for prediction\n",
    "for column in train_data.select_dtypes(include=['int64']).columns:\n",
    "    train_data[column], avg, std = mean_normalization(train_data[column])\n",
    "    normalization_dict[column] = [avg, std]"
   ]
  },
  {
   "cell_type": "markdown",
   "metadata": {},
   "source": [
    "## Create Dummy Variables"
   ]
  },
  {
   "cell_type": "code",
   "execution_count": 21,
   "metadata": {},
   "outputs": [],
   "source": [
    "train_data.columns = [i.lower() for i in train_data.columns]\n",
    "train_data.columns = [i.replace('.','_') for i in train_data.columns]"
   ]
  },
  {
   "cell_type": "markdown",
   "metadata": {},
   "source": [
    "### Perform CNS Score Description"
   ]
  },
  {
   "cell_type": "code",
   "execution_count": 22,
   "metadata": {},
   "outputs": [
    {
     "data": {
      "text/html": [
       "<div>\n",
       "<style scoped>\n",
       "    .dataframe tbody tr th:only-of-type {\n",
       "        vertical-align: middle;\n",
       "    }\n",
       "\n",
       "    .dataframe tbody tr th {\n",
       "        vertical-align: top;\n",
       "    }\n",
       "\n",
       "    .dataframe thead th {\n",
       "        text-align: right;\n",
       "    }\n",
       "</style>\n",
       "<table border=\"1\" class=\"dataframe\">\n",
       "  <thead>\n",
       "    <tr style=\"text-align: right;\">\n",
       "      <th>loan_default</th>\n",
       "      <th>False</th>\n",
       "      <th>True</th>\n",
       "    </tr>\n",
       "    <tr>\n",
       "      <th>perform_cns_score_description</th>\n",
       "      <th></th>\n",
       "      <th></th>\n",
       "    </tr>\n",
       "  </thead>\n",
       "  <tbody>\n",
       "    <tr>\n",
       "      <th>High Risk</th>\n",
       "      <td>8777</td>\n",
       "      <td>3248</td>\n",
       "    </tr>\n",
       "    <tr>\n",
       "      <th>Low Risk</th>\n",
       "      <td>14928</td>\n",
       "      <td>3366</td>\n",
       "    </tr>\n",
       "    <tr>\n",
       "      <th>Medium Risk</th>\n",
       "      <td>9239</td>\n",
       "      <td>3173</td>\n",
       "    </tr>\n",
       "    <tr>\n",
       "      <th>Not Scored</th>\n",
       "      <td>99970</td>\n",
       "      <td>29815</td>\n",
       "    </tr>\n",
       "    <tr>\n",
       "      <th>Very High Risk</th>\n",
       "      <td>6919</td>\n",
       "      <td>2991</td>\n",
       "    </tr>\n",
       "    <tr>\n",
       "      <th>Very Low Risk</th>\n",
       "      <td>42710</td>\n",
       "      <td>8018</td>\n",
       "    </tr>\n",
       "  </tbody>\n",
       "</table>\n",
       "</div>"
      ],
      "text/plain": [
       "loan_default                   False   True\n",
       "perform_cns_score_description              \n",
       "High Risk                       8777   3248\n",
       "Low Risk                       14928   3366\n",
       "Medium Risk                     9239   3173\n",
       "Not Scored                     99970  29815\n",
       "Very High Risk                  6919   2991\n",
       "Very Low Risk                  42710   8018"
      ]
     },
     "execution_count": 22,
     "metadata": {},
     "output_type": "execute_result"
    }
   ],
   "source": [
    "## A majority of the categorical classes are different types are 'not scored' or 'no history'\n",
    "## Can reduce to six classes\n",
    "\n",
    "risk = []\n",
    "for i in train_data['perform_cns_score_description']:\n",
    "    if('Very Low' in i):\n",
    "        risk.append('Very Low Risk')\n",
    "    elif('Low' in i):\n",
    "        risk.append('Low Risk')\n",
    "    elif('Medium' in i):\n",
    "        risk.append('Medium Risk')\n",
    "    elif('Very High' in i):\n",
    "        risk.append('Very High Risk')\n",
    "    elif('High' in i):\n",
    "        risk.append('High Risk')\n",
    "    else:\n",
    "        risk.append('Not Scored')\n",
    "        \n",
    "train_data['perform_cns_score_description'] = risk\n",
    "\n",
    "## As we can see, a majority of default and non-default are not scored or very low risk\n",
    "pd.crosstab(index=train_data['perform_cns_score_description'], columns=train_data['loan_default'])"
   ]
  },
  {
   "cell_type": "code",
   "execution_count": 23,
   "metadata": {},
   "outputs": [
    {
     "data": {
      "text/plain": [
       "3    129785\n",
       "5     50728\n",
       "1     18294\n",
       "2     12412\n",
       "0     12025\n",
       "4      9910\n",
       "Name: perform_cns_score_description, dtype: int64"
      ]
     },
     "execution_count": 23,
     "metadata": {},
     "output_type": "execute_result"
    }
   ],
   "source": [
    "## Transform categories to numerical codes for modelling.\n",
    "train_data.perform_cns_score_description = train_data.perform_cns_score_description.astype('category').cat.codes\n",
    "\n",
    "## Verify transformation\n",
    "train_data.perform_cns_score_description.value_counts()"
   ]
  },
  {
   "cell_type": "markdown",
   "metadata": {},
   "source": [
    "### Employment Type"
   ]
  },
  {
   "cell_type": "code",
   "execution_count": 24,
   "metadata": {},
   "outputs": [
    {
     "data": {
      "text/plain": [
       "1    127635\n",
       "0     97858\n",
       "2      7661\n",
       "Name: employment_type, dtype: int64"
      ]
     },
     "execution_count": 24,
     "metadata": {},
     "output_type": "execute_result"
    }
   ],
   "source": [
    "## Get 'dummy' numerical values for 'salaried' and 'self employed' for modeling\n",
    "train_data['employment_type'] = train_data['employment_type'].astype('category').cat.codes\n",
    "## Verify 'employment_type' was converted.\n",
    "train_data['employment_type'].value_counts()"
   ]
  },
  {
   "cell_type": "markdown",
   "metadata": {},
   "source": [
    "### Date of Birth to Age\n",
    "\n",
    "* Maybe worth doing birth to dispursal age to get better estimation of age at time of loan"
   ]
  },
  {
   "cell_type": "code",
   "execution_count": 25,
   "metadata": {},
   "outputs": [],
   "source": [
    "train_data['disbursaldate'] = pd.to_datetime(train_data['disbursaldate'], infer_datetime_format=True)"
   ]
  },
  {
   "cell_type": "code",
   "execution_count": 26,
   "metadata": {},
   "outputs": [
    {
     "data": {
      "text/plain": [
       "count    233154.000000\n",
       "mean         36.055088\n",
       "std           6.463728\n",
       "min          23.000000\n",
       "25%          31.000000\n",
       "50%          36.000000\n",
       "75%          40.000000\n",
       "max          50.000000\n",
       "Name: age, dtype: float64"
      ]
     },
     "execution_count": 26,
     "metadata": {},
     "output_type": "execute_result"
    }
   ],
   "source": [
    "train_data['date_of_birth'] = pd.to_datetime(train_data['date_of_birth'], infer_datetime_format=True)\n",
    "\n",
    "now = pd.Timestamp('now')\n",
    "\n",
    "train_data['age'] = (now - train_data['date_of_birth']).astype('<m8[Y]').astype(int)\n",
    "\n",
    "age_mean = int(train_data[train_data['age']>0]['age'].mean())\n",
    "\n",
    "train_data.loc[:,'age'] = train_data['age'].apply(lambda x: x if x>0 else age_mean)\n",
    "\n",
    "train_data.age.describe()"
   ]
  },
  {
   "cell_type": "markdown",
   "metadata": {},
   "source": [
    "## Remove the rest of the unneeded Columns"
   ]
  },
  {
   "cell_type": "code",
   "execution_count": 27,
   "metadata": {},
   "outputs": [
    {
     "data": {
      "text/html": [
       "<div>\n",
       "<style scoped>\n",
       "    .dataframe tbody tr th:only-of-type {\n",
       "        vertical-align: middle;\n",
       "    }\n",
       "\n",
       "    .dataframe tbody tr th {\n",
       "        vertical-align: top;\n",
       "    }\n",
       "\n",
       "    .dataframe thead th {\n",
       "        text-align: right;\n",
       "    }\n",
       "</style>\n",
       "<table border=\"1\" class=\"dataframe\">\n",
       "  <thead>\n",
       "    <tr style=\"text-align: right;\">\n",
       "      <th></th>\n",
       "      <th>disbursed_amount</th>\n",
       "      <th>asset_cost</th>\n",
       "      <th>ltv</th>\n",
       "      <th>branch_id</th>\n",
       "      <th>supplier_id</th>\n",
       "      <th>manufacturer_id</th>\n",
       "      <th>current_pincode_id</th>\n",
       "      <th>state_id</th>\n",
       "      <th>employee_code_id</th>\n",
       "      <th>mobileno_avl_flag</th>\n",
       "      <th>...</th>\n",
       "      <th>no_of_inquiries</th>\n",
       "      <th>loan_default</th>\n",
       "      <th>total_accts</th>\n",
       "      <th>active_accts</th>\n",
       "      <th>overdue_accts</th>\n",
       "      <th>total_current_balance</th>\n",
       "      <th>total_sanc_amount</th>\n",
       "      <th>total_disbursed_amount</th>\n",
       "      <th>total_instal</th>\n",
       "      <th>age</th>\n",
       "    </tr>\n",
       "  </thead>\n",
       "  <tbody>\n",
       "    <tr>\n",
       "      <th>0</th>\n",
       "      <td>-0.291335</td>\n",
       "      <td>-0.921893</td>\n",
       "      <td>89.55</td>\n",
       "      <td>67</td>\n",
       "      <td>22807</td>\n",
       "      <td>45</td>\n",
       "      <td>1441</td>\n",
       "      <td>6</td>\n",
       "      <td>0.4599</td>\n",
       "      <td>True</td>\n",
       "      <td>...</td>\n",
       "      <td>-0.292449</td>\n",
       "      <td>False</td>\n",
       "      <td>-0.472558</td>\n",
       "      <td>-0.538021</td>\n",
       "      <td>-0.290192</td>\n",
       "      <td>-0.178324</td>\n",
       "      <td>-0.094714</td>\n",
       "      <td>-0.094368</td>\n",
       "      <td>-0.088154</td>\n",
       "      <td>39</td>\n",
       "    </tr>\n",
       "    <tr>\n",
       "      <th>1</th>\n",
       "      <td>-0.555996</td>\n",
       "      <td>-0.544481</td>\n",
       "      <td>73.23</td>\n",
       "      <td>67</td>\n",
       "      <td>22807</td>\n",
       "      <td>45</td>\n",
       "      <td>1502</td>\n",
       "      <td>6</td>\n",
       "      <td>0.4599</td>\n",
       "      <td>True</td>\n",
       "      <td>...</td>\n",
       "      <td>-0.292449</td>\n",
       "      <td>True</td>\n",
       "      <td>-0.283514</td>\n",
       "      <td>-0.034067</td>\n",
       "      <td>1.481510</td>\n",
       "      <td>-0.149597</td>\n",
       "      <td>-0.073657</td>\n",
       "      <td>-0.073337</td>\n",
       "      <td>-0.075084</td>\n",
       "      <td>38</td>\n",
       "    </tr>\n",
       "    <tr>\n",
       "      <th>2</th>\n",
       "      <td>-0.083183</td>\n",
       "      <td>-0.765650</td>\n",
       "      <td>89.63</td>\n",
       "      <td>67</td>\n",
       "      <td>22807</td>\n",
       "      <td>45</td>\n",
       "      <td>1497</td>\n",
       "      <td>6</td>\n",
       "      <td>0.4599</td>\n",
       "      <td>True</td>\n",
       "      <td>...</td>\n",
       "      <td>-0.292449</td>\n",
       "      <td>False</td>\n",
       "      <td>-0.472558</td>\n",
       "      <td>-0.538021</td>\n",
       "      <td>-0.290192</td>\n",
       "      <td>-0.178324</td>\n",
       "      <td>-0.094714</td>\n",
       "      <td>-0.094368</td>\n",
       "      <td>-0.088154</td>\n",
       "      <td>38</td>\n",
       "    </tr>\n",
       "    <tr>\n",
       "      <th>3</th>\n",
       "      <td>0.243307</td>\n",
       "      <td>-0.514763</td>\n",
       "      <td>88.48</td>\n",
       "      <td>67</td>\n",
       "      <td>22807</td>\n",
       "      <td>45</td>\n",
       "      <td>1501</td>\n",
       "      <td>6</td>\n",
       "      <td>0.4599</td>\n",
       "      <td>True</td>\n",
       "      <td>...</td>\n",
       "      <td>1.122984</td>\n",
       "      <td>True</td>\n",
       "      <td>0.094576</td>\n",
       "      <td>-0.538021</td>\n",
       "      <td>-0.290192</td>\n",
       "      <td>-0.178324</td>\n",
       "      <td>-0.094714</td>\n",
       "      <td>-0.094368</td>\n",
       "      <td>-0.087951</td>\n",
       "      <td>29</td>\n",
       "    </tr>\n",
       "    <tr>\n",
       "      <th>4</th>\n",
       "      <td>-0.152567</td>\n",
       "      <td>-0.821602</td>\n",
       "      <td>88.39</td>\n",
       "      <td>67</td>\n",
       "      <td>22807</td>\n",
       "      <td>45</td>\n",
       "      <td>1495</td>\n",
       "      <td>6</td>\n",
       "      <td>0.4599</td>\n",
       "      <td>True</td>\n",
       "      <td>...</td>\n",
       "      <td>1.122984</td>\n",
       "      <td>True</td>\n",
       "      <td>-0.472558</td>\n",
       "      <td>-0.538021</td>\n",
       "      <td>-0.290192</td>\n",
       "      <td>-0.178324</td>\n",
       "      <td>-0.094714</td>\n",
       "      <td>-0.094368</td>\n",
       "      <td>-0.088154</td>\n",
       "      <td>46</td>\n",
       "    </tr>\n",
       "  </tbody>\n",
       "</table>\n",
       "<p>5 rows × 31 columns</p>\n",
       "</div>"
      ],
      "text/plain": [
       "   disbursed_amount  asset_cost    ltv branch_id supplier_id manufacturer_id  \\\n",
       "0         -0.291335   -0.921893  89.55        67       22807              45   \n",
       "1         -0.555996   -0.544481  73.23        67       22807              45   \n",
       "2         -0.083183   -0.765650  89.63        67       22807              45   \n",
       "3          0.243307   -0.514763  88.48        67       22807              45   \n",
       "4         -0.152567   -0.821602  88.39        67       22807              45   \n",
       "\n",
       "  current_pincode_id state_id  employee_code_id  mobileno_avl_flag  ...  \\\n",
       "0               1441        6            0.4599               True  ...   \n",
       "1               1502        6            0.4599               True  ...   \n",
       "2               1497        6            0.4599               True  ...   \n",
       "3               1501        6            0.4599               True  ...   \n",
       "4               1495        6            0.4599               True  ...   \n",
       "\n",
       "   no_of_inquiries  loan_default  total_accts  active_accts  overdue_accts  \\\n",
       "0        -0.292449         False    -0.472558     -0.538021      -0.290192   \n",
       "1        -0.292449          True    -0.283514     -0.034067       1.481510   \n",
       "2        -0.292449         False    -0.472558     -0.538021      -0.290192   \n",
       "3         1.122984          True     0.094576     -0.538021      -0.290192   \n",
       "4         1.122984          True    -0.472558     -0.538021      -0.290192   \n",
       "\n",
       "   total_current_balance  total_sanc_amount  total_disbursed_amount  \\\n",
       "0              -0.178324          -0.094714               -0.094368   \n",
       "1              -0.149597          -0.073657               -0.073337   \n",
       "2              -0.178324          -0.094714               -0.094368   \n",
       "3              -0.178324          -0.094714               -0.094368   \n",
       "4              -0.178324          -0.094714               -0.094368   \n",
       "\n",
       "   total_instal  age  \n",
       "0     -0.088154   39  \n",
       "1     -0.075084   38  \n",
       "2     -0.088154   38  \n",
       "3     -0.087951   29  \n",
       "4     -0.088154   46  \n",
       "\n",
       "[5 rows x 31 columns]"
      ]
     },
     "execution_count": 27,
     "metadata": {},
     "output_type": "execute_result"
    }
   ],
   "source": [
    "## Specify which columns to remove from dataset to reduce dimensionality and maximize accuracy\n",
    "to_drop = ['date_of_birth', 'disbursaldate', 'employment_type']\n",
    "\n",
    "train_data = train_data.drop(columns=to_drop, axis=1)\n",
    "\n",
    "train_data.head()"
   ]
  },
  {
   "cell_type": "markdown",
   "metadata": {},
   "source": [
    "## Create Dummy Variable DF (Unsure if we will use it)"
   ]
  },
  {
   "cell_type": "code",
   "execution_count": 28,
   "metadata": {},
   "outputs": [],
   "source": [
    "train_data_dummy = pd.get_dummies(train_data, columns=train_data.select_dtypes(include=['category']).columns, drop_first=True)"
   ]
  },
  {
   "cell_type": "markdown",
   "metadata": {},
   "source": [
    "## Save the Two DataFrames"
   ]
  },
  {
   "cell_type": "code",
   "execution_count": 29,
   "metadata": {},
   "outputs": [],
   "source": [
    "# Categories not one hot encoded\n",
    "train_data.to_pickle('../Project/train_data.P')\n",
    "\n",
    "# Categories one hot encoded\n",
    "train_data_dummy.to_pickle('../Project/train_data_onehot.P')\n",
    "\n",
    "# Normalization Vectors\n",
    "with open(\"../Project/normalizaion_vectors.P\", \"wb\") as tf:\n",
    "    pickle.dump(normalization_dict, tf)"
   ]
  },
  {
   "cell_type": "code",
   "execution_count": null,
   "metadata": {},
   "outputs": [],
   "source": []
  }
 ],
 "metadata": {
  "interpreter": {
   "hash": "adce2c18a9c3d84f1dbaa997af7647fb3e1556606b4eefedd3b71ff98323f54e"
  },
  "kernelspec": {
   "display_name": "Python 3 (ipykernel)",
   "language": "python",
   "name": "python3"
  },
  "language_info": {
   "codemirror_mode": {
    "name": "ipython",
    "version": 3
   },
   "file_extension": ".py",
   "mimetype": "text/x-python",
   "name": "python",
   "nbconvert_exporter": "python",
   "pygments_lexer": "ipython3",
   "version": "3.8.18"
  }
 },
 "nbformat": 4,
 "nbformat_minor": 4
}
